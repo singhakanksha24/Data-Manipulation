{
 "cells": [
  {
   "cell_type": "markdown",
   "id": "80c946c9",
   "metadata": {
    "papermill": {
     "duration": 0.019399,
     "end_time": "2021-11-29T08:08:21.467370",
     "exception": false,
     "start_time": "2021-11-29T08:08:21.447971",
     "status": "completed"
    },
    "tags": []
   },
   "source": [
    "**This notebook is an exercise in the [Pandas](https://www.kaggle.com/learn/pandas) course.  You can reference the tutorial at [this link](https://www.kaggle.com/residentmario/grouping-and-sorting).**\n",
    "\n",
    "---\n"
   ]
  },
  {
   "cell_type": "markdown",
   "id": "33eacc87",
   "metadata": {
    "papermill": {
     "duration": 0.017689,
     "end_time": "2021-11-29T08:08:21.505030",
     "exception": false,
     "start_time": "2021-11-29T08:08:21.487341",
     "status": "completed"
    },
    "tags": []
   },
   "source": [
    "# Introduction\n",
    "\n",
    "In these exercises we'll apply groupwise analysis to our dataset.\n",
    "\n",
    "Run the code cell below to load the data before running the exercises."
   ]
  },
  {
   "cell_type": "code",
   "execution_count": 1,
   "id": "c5954689",
   "metadata": {
    "execution": {
     "iopub.execute_input": "2021-11-29T08:08:21.550014Z",
     "iopub.status.busy": "2021-11-29T08:08:21.548773Z",
     "iopub.status.idle": "2021-11-29T08:08:25.163454Z",
     "shell.execute_reply": "2021-11-29T08:08:25.162780Z",
     "shell.execute_reply.started": "2021-11-29T08:05:32.465308Z"
    },
    "papermill": {
     "duration": 3.63671,
     "end_time": "2021-11-29T08:08:25.163676",
     "exception": false,
     "start_time": "2021-11-29T08:08:21.526966",
     "status": "completed"
    },
    "tags": []
   },
   "outputs": [
    {
     "name": "stdout",
     "output_type": "stream",
     "text": [
      "Setup complete.\n"
     ]
    }
   ],
   "source": [
    "import pandas as pd\n",
    "\n",
    "reviews = pd.read_csv(\"../input/wine-reviews/winemag-data-130k-v2.csv\", index_col=0)\n",
    "#pd.set_option(\"display.max_rows\", 5)\n",
    "\n",
    "from learntools.core import binder; binder.bind(globals())\n",
    "from learntools.pandas.grouping_and_sorting import *\n",
    "print(\"Setup complete.\")"
   ]
  },
  {
   "cell_type": "markdown",
   "id": "1f7e51cb",
   "metadata": {
    "papermill": {
     "duration": 0.018215,
     "end_time": "2021-11-29T08:08:25.202181",
     "exception": false,
     "start_time": "2021-11-29T08:08:25.183966",
     "status": "completed"
    },
    "tags": []
   },
   "source": [
    "# Exercises"
   ]
  },
  {
   "cell_type": "markdown",
   "id": "92ff18ba",
   "metadata": {
    "papermill": {
     "duration": 0.018492,
     "end_time": "2021-11-29T08:08:25.239154",
     "exception": false,
     "start_time": "2021-11-29T08:08:25.220662",
     "status": "completed"
    },
    "tags": []
   },
   "source": [
    "## 1.\n",
    "Who are the most common wine reviewers in the dataset? Create a `Series` whose index is the `taster_twitter_handle` category from the dataset, and whose values count how many reviews each person wrote."
   ]
  },
  {
   "cell_type": "code",
   "execution_count": 2,
   "id": "5099bf94",
   "metadata": {
    "execution": {
     "iopub.execute_input": "2021-11-29T08:08:25.297545Z",
     "iopub.status.busy": "2021-11-29T08:08:25.279284Z",
     "iopub.status.idle": "2021-11-29T08:08:25.309706Z",
     "shell.execute_reply": "2021-11-29T08:08:25.310213Z",
     "shell.execute_reply.started": "2021-11-29T08:05:51.033972Z"
    },
    "papermill": {
     "duration": 0.052871,
     "end_time": "2021-11-29T08:08:25.310422",
     "exception": false,
     "start_time": "2021-11-29T08:08:25.257551",
     "status": "completed"
    },
    "tags": []
   },
   "outputs": [
    {
     "data": {
      "application/javascript": [
       "parent.postMessage({\"jupyterEvent\": \"custom.exercise_interaction\", \"data\": {\"outcomeType\": 1, \"valueTowardsCompletion\": 0.16666666666666666, \"interactionType\": 1, \"questionType\": 1, \"questionId\": \"1_ReviewsWritten\", \"learnToolsVersion\": \"0.3.4\", \"failureMessage\": \"\", \"exceptionClass\": \"\", \"trace\": \"\"}}, \"*\")"
      ],
      "text/plain": [
       "<IPython.core.display.Javascript object>"
      ]
     },
     "metadata": {},
     "output_type": "display_data"
    },
    {
     "data": {
      "text/markdown": [
       "<span style=\"color:#33cc33\">Correct:</span> \n",
       "\n",
       "\n",
       "```python\n",
       "reviews_written = reviews.groupby('taster_twitter_handle').size()\n",
       "```\n",
       "or\n",
       "```python\n",
       "reviews_written = reviews.groupby('taster_twitter_handle').taster_twitter_handle.count()\n",
       "```\n"
      ],
      "text/plain": [
       "Correct: \n",
       "\n",
       "\n",
       "```python\n",
       "reviews_written = reviews.groupby('taster_twitter_handle').size()\n",
       "```\n",
       "or\n",
       "```python\n",
       "reviews_written = reviews.groupby('taster_twitter_handle').taster_twitter_handle.count()\n",
       "```"
      ]
     },
     "metadata": {},
     "output_type": "display_data"
    }
   ],
   "source": [
    "# Your code here\n",
    "reviews_written = reviews.groupby('taster_twitter_handle').size()\n",
    "\n",
    "# Check your answer\n",
    "q1.check()"
   ]
  },
  {
   "cell_type": "code",
   "execution_count": 3,
   "id": "cf2ca100",
   "metadata": {
    "execution": {
     "iopub.execute_input": "2021-11-29T08:08:25.355155Z",
     "iopub.status.busy": "2021-11-29T08:08:25.354180Z",
     "iopub.status.idle": "2021-11-29T08:08:25.356815Z",
     "shell.execute_reply": "2021-11-29T08:08:25.356302Z",
     "shell.execute_reply.started": "2021-11-29T08:05:48.005671Z"
    },
    "papermill": {
     "duration": 0.027002,
     "end_time": "2021-11-29T08:08:25.356974",
     "exception": false,
     "start_time": "2021-11-29T08:08:25.329972",
     "status": "completed"
    },
    "tags": []
   },
   "outputs": [],
   "source": [
    "#q1.hint()\n",
    "#q1.solution()"
   ]
  },
  {
   "cell_type": "markdown",
   "id": "231e5772",
   "metadata": {
    "papermill": {
     "duration": 0.019021,
     "end_time": "2021-11-29T08:08:25.395719",
     "exception": false,
     "start_time": "2021-11-29T08:08:25.376698",
     "status": "completed"
    },
    "tags": []
   },
   "source": [
    "## 2.\n",
    "What is the best wine I can buy for a given amount of money? Create a `Series` whose index is wine prices and whose values is the maximum number of points a wine costing that much was given in a review. Sort the values by price, ascending (so that `4.0` dollars is at the top and `3300.0` dollars is at the bottom)."
   ]
  },
  {
   "cell_type": "code",
   "execution_count": 4,
   "id": "7a3cc02d",
   "metadata": {
    "execution": {
     "iopub.execute_input": "2021-11-29T08:08:25.439474Z",
     "iopub.status.busy": "2021-11-29T08:08:25.438736Z",
     "iopub.status.idle": "2021-11-29T08:08:25.450499Z",
     "shell.execute_reply": "2021-11-29T08:08:25.451160Z",
     "shell.execute_reply.started": "2021-11-29T08:06:17.295430Z"
    },
    "papermill": {
     "duration": 0.036216,
     "end_time": "2021-11-29T08:08:25.451357",
     "exception": false,
     "start_time": "2021-11-29T08:08:25.415141",
     "status": "completed"
    },
    "tags": []
   },
   "outputs": [
    {
     "data": {
      "application/javascript": [
       "parent.postMessage({\"jupyterEvent\": \"custom.exercise_interaction\", \"data\": {\"outcomeType\": 1, \"valueTowardsCompletion\": 0.16666666666666666, \"interactionType\": 1, \"questionType\": 1, \"questionId\": \"2_BestRatingPerPrice\", \"learnToolsVersion\": \"0.3.4\", \"failureMessage\": \"\", \"exceptionClass\": \"\", \"trace\": \"\"}}, \"*\")"
      ],
      "text/plain": [
       "<IPython.core.display.Javascript object>"
      ]
     },
     "metadata": {},
     "output_type": "display_data"
    },
    {
     "data": {
      "text/markdown": [
       "<span style=\"color:#33cc33\">Correct</span>"
      ],
      "text/plain": [
       "Correct"
      ]
     },
     "metadata": {},
     "output_type": "display_data"
    }
   ],
   "source": [
    "best_rating_per_price = reviews.groupby('price')['points'].max().sort_index()\n",
    "# Check your answer\n",
    "q2.check()"
   ]
  },
  {
   "cell_type": "code",
   "execution_count": 5,
   "id": "17fb7e0a",
   "metadata": {
    "execution": {
     "iopub.execute_input": "2021-11-29T08:08:25.495888Z",
     "iopub.status.busy": "2021-11-29T08:08:25.495148Z",
     "iopub.status.idle": "2021-11-29T08:08:25.497995Z",
     "shell.execute_reply": "2021-11-29T08:08:25.498591Z",
     "shell.execute_reply.started": "2021-11-29T08:06:21.348741Z"
    },
    "papermill": {
     "duration": 0.027041,
     "end_time": "2021-11-29T08:08:25.498822",
     "exception": false,
     "start_time": "2021-11-29T08:08:25.471781",
     "status": "completed"
    },
    "tags": []
   },
   "outputs": [],
   "source": [
    "#q2.hint()\n",
    "#q2.solution()"
   ]
  },
  {
   "cell_type": "markdown",
   "id": "477f4d28",
   "metadata": {
    "papermill": {
     "duration": 0.021624,
     "end_time": "2021-11-29T08:08:25.542402",
     "exception": false,
     "start_time": "2021-11-29T08:08:25.520778",
     "status": "completed"
    },
    "tags": []
   },
   "source": [
    "## 3.\n",
    "What are the minimum and maximum prices for each `variety` of wine? Create a `DataFrame` whose index is the `variety` category from the dataset and whose values are the `min` and `max` values thereof."
   ]
  },
  {
   "cell_type": "code",
   "execution_count": 6,
   "id": "a54710bc",
   "metadata": {
    "execution": {
     "iopub.execute_input": "2021-11-29T08:08:25.587465Z",
     "iopub.status.busy": "2021-11-29T08:08:25.586774Z",
     "iopub.status.idle": "2021-11-29T08:08:25.618841Z",
     "shell.execute_reply": "2021-11-29T08:08:25.618128Z",
     "shell.execute_reply.started": "2021-11-29T08:06:32.564622Z"
    },
    "papermill": {
     "duration": 0.055822,
     "end_time": "2021-11-29T08:08:25.619012",
     "exception": false,
     "start_time": "2021-11-29T08:08:25.563190",
     "status": "completed"
    },
    "tags": []
   },
   "outputs": [
    {
     "data": {
      "application/javascript": [
       "parent.postMessage({\"jupyterEvent\": \"custom.exercise_interaction\", \"data\": {\"outcomeType\": 1, \"valueTowardsCompletion\": 0.16666666666666666, \"interactionType\": 1, \"questionType\": 1, \"questionId\": \"3_PriceExtremes\", \"learnToolsVersion\": \"0.3.4\", \"failureMessage\": \"\", \"exceptionClass\": \"\", \"trace\": \"\"}}, \"*\")"
      ],
      "text/plain": [
       "<IPython.core.display.Javascript object>"
      ]
     },
     "metadata": {},
     "output_type": "display_data"
    },
    {
     "data": {
      "text/markdown": [
       "<span style=\"color:#33cc33\">Correct</span>"
      ],
      "text/plain": [
       "Correct"
      ]
     },
     "metadata": {},
     "output_type": "display_data"
    }
   ],
   "source": [
    "price_extremes = reviews.groupby('variety').price.agg([min, max])\n",
    "\n",
    "# Check your answer\n",
    "q3.check()"
   ]
  },
  {
   "cell_type": "code",
   "execution_count": 7,
   "id": "623c4ecf",
   "metadata": {
    "execution": {
     "iopub.execute_input": "2021-11-29T08:08:25.668295Z",
     "iopub.status.busy": "2021-11-29T08:08:25.667501Z",
     "iopub.status.idle": "2021-11-29T08:08:25.669132Z",
     "shell.execute_reply": "2021-11-29T08:08:25.669794Z",
     "shell.execute_reply.started": "2021-11-29T08:06:35.609081Z"
    },
    "papermill": {
     "duration": 0.028713,
     "end_time": "2021-11-29T08:08:25.669996",
     "exception": false,
     "start_time": "2021-11-29T08:08:25.641283",
     "status": "completed"
    },
    "tags": []
   },
   "outputs": [],
   "source": [
    "#q3.hint()\n",
    "#q3.solution()"
   ]
  },
  {
   "cell_type": "markdown",
   "id": "b4d7da95",
   "metadata": {
    "papermill": {
     "duration": 0.021172,
     "end_time": "2021-11-29T08:08:25.712690",
     "exception": false,
     "start_time": "2021-11-29T08:08:25.691518",
     "status": "completed"
    },
    "tags": []
   },
   "source": [
    "## 4.\n",
    "What are the most expensive wine varieties? Create a variable `sorted_varieties` containing a copy of the dataframe from the previous question where varieties are sorted in descending order based on minimum price, then on maximum price (to break ties)."
   ]
  },
  {
   "cell_type": "code",
   "execution_count": 8,
   "id": "3022ad0f",
   "metadata": {
    "execution": {
     "iopub.execute_input": "2021-11-29T08:08:25.762650Z",
     "iopub.status.busy": "2021-11-29T08:08:25.761878Z",
     "iopub.status.idle": "2021-11-29T08:08:25.771084Z",
     "shell.execute_reply": "2021-11-29T08:08:25.771602Z",
     "shell.execute_reply.started": "2021-11-29T08:06:48.123809Z"
    },
    "papermill": {
     "duration": 0.037591,
     "end_time": "2021-11-29T08:08:25.771818",
     "exception": false,
     "start_time": "2021-11-29T08:08:25.734227",
     "status": "completed"
    },
    "tags": []
   },
   "outputs": [
    {
     "data": {
      "application/javascript": [
       "parent.postMessage({\"jupyterEvent\": \"custom.exercise_interaction\", \"data\": {\"outcomeType\": 1, \"valueTowardsCompletion\": 0.16666666666666666, \"interactionType\": 1, \"questionType\": 1, \"questionId\": \"4_SortedVarieties\", \"learnToolsVersion\": \"0.3.4\", \"failureMessage\": \"\", \"exceptionClass\": \"\", \"trace\": \"\"}}, \"*\")"
      ],
      "text/plain": [
       "<IPython.core.display.Javascript object>"
      ]
     },
     "metadata": {},
     "output_type": "display_data"
    },
    {
     "data": {
      "text/markdown": [
       "<span style=\"color:#33cc33\">Correct</span>"
      ],
      "text/plain": [
       "Correct"
      ]
     },
     "metadata": {},
     "output_type": "display_data"
    }
   ],
   "source": [
    "sorted_varieties = price_extremes.sort_values(by=['min', 'max'], ascending=False)\n",
    "\n",
    "# Check your answer\n",
    "q4.check()"
   ]
  },
  {
   "cell_type": "code",
   "execution_count": 9,
   "id": "086430e5",
   "metadata": {
    "execution": {
     "iopub.execute_input": "2021-11-29T08:08:25.822182Z",
     "iopub.status.busy": "2021-11-29T08:08:25.821074Z",
     "iopub.status.idle": "2021-11-29T08:08:25.824478Z",
     "shell.execute_reply": "2021-11-29T08:08:25.825172Z",
     "shell.execute_reply.started": "2021-11-29T08:06:51.234112Z"
    },
    "papermill": {
     "duration": 0.031367,
     "end_time": "2021-11-29T08:08:25.825368",
     "exception": false,
     "start_time": "2021-11-29T08:08:25.794001",
     "status": "completed"
    },
    "tags": []
   },
   "outputs": [],
   "source": [
    "#q4.hint()\n",
    "#q4.solution()"
   ]
  },
  {
   "cell_type": "markdown",
   "id": "0dd8cacf",
   "metadata": {
    "papermill": {
     "duration": 0.023351,
     "end_time": "2021-11-29T08:08:25.873402",
     "exception": false,
     "start_time": "2021-11-29T08:08:25.850051",
     "status": "completed"
    },
    "tags": []
   },
   "source": [
    "## 5.\n",
    "Create a `Series` whose index is reviewers and whose values is the average review score given out by that reviewer. Hint: you will need the `taster_name` and `points` columns."
   ]
  },
  {
   "cell_type": "code",
   "execution_count": 10,
   "id": "ba4e76f2",
   "metadata": {
    "execution": {
     "iopub.execute_input": "2021-11-29T08:08:25.922812Z",
     "iopub.status.busy": "2021-11-29T08:08:25.921780Z",
     "iopub.status.idle": "2021-11-29T08:08:25.949279Z",
     "shell.execute_reply": "2021-11-29T08:08:25.949915Z",
     "shell.execute_reply.started": "2021-11-29T08:07:15.717102Z"
    },
    "papermill": {
     "duration": 0.054042,
     "end_time": "2021-11-29T08:08:25.950116",
     "exception": false,
     "start_time": "2021-11-29T08:08:25.896074",
     "status": "completed"
    },
    "tags": []
   },
   "outputs": [
    {
     "data": {
      "application/javascript": [
       "parent.postMessage({\"jupyterEvent\": \"custom.exercise_interaction\", \"data\": {\"outcomeType\": 1, \"valueTowardsCompletion\": 0.16666666666666666, \"interactionType\": 1, \"questionType\": 1, \"questionId\": \"5_ReviewerMeanRatings\", \"learnToolsVersion\": \"0.3.4\", \"failureMessage\": \"\", \"exceptionClass\": \"\", \"trace\": \"\"}}, \"*\")"
      ],
      "text/plain": [
       "<IPython.core.display.Javascript object>"
      ]
     },
     "metadata": {},
     "output_type": "display_data"
    },
    {
     "data": {
      "text/markdown": [
       "<span style=\"color:#33cc33\">Correct</span>"
      ],
      "text/plain": [
       "Correct"
      ]
     },
     "metadata": {},
     "output_type": "display_data"
    }
   ],
   "source": [
    "reviewer_mean_ratings = reviews.groupby('taster_name').points.mean()\n",
    "\n",
    "# Check your answer\n",
    "q5.check()"
   ]
  },
  {
   "cell_type": "code",
   "execution_count": 11,
   "id": "695856bd",
   "metadata": {
    "execution": {
     "iopub.execute_input": "2021-11-29T08:08:26.003201Z",
     "iopub.status.busy": "2021-11-29T08:08:26.002005Z",
     "iopub.status.idle": "2021-11-29T08:08:26.005293Z",
     "shell.execute_reply": "2021-11-29T08:08:26.006542Z",
     "shell.execute_reply.started": "2021-11-29T08:07:18.533641Z"
    },
    "papermill": {
     "duration": 0.033488,
     "end_time": "2021-11-29T08:08:26.006770",
     "exception": false,
     "start_time": "2021-11-29T08:08:25.973282",
     "status": "completed"
    },
    "tags": []
   },
   "outputs": [],
   "source": [
    "#q5.hint()\n",
    "#q5.solution()"
   ]
  },
  {
   "cell_type": "markdown",
   "id": "d678c998",
   "metadata": {
    "papermill": {
     "duration": 0.023159,
     "end_time": "2021-11-29T08:08:26.053234",
     "exception": false,
     "start_time": "2021-11-29T08:08:26.030075",
     "status": "completed"
    },
    "tags": []
   },
   "source": [
    "Are there significant differences in the average scores assigned by the various reviewers? Run the cell below to use the `describe()` method to see a summary of the range of values."
   ]
  },
  {
   "cell_type": "code",
   "execution_count": 12,
   "id": "d0519d51",
   "metadata": {
    "execution": {
     "iopub.execute_input": "2021-11-29T08:08:26.104721Z",
     "iopub.status.busy": "2021-11-29T08:08:26.103558Z",
     "iopub.status.idle": "2021-11-29T08:08:26.114706Z",
     "shell.execute_reply": "2021-11-29T08:08:26.115310Z",
     "shell.execute_reply.started": "2021-11-29T08:07:22.403630Z"
    },
    "papermill": {
     "duration": 0.039122,
     "end_time": "2021-11-29T08:08:26.115516",
     "exception": false,
     "start_time": "2021-11-29T08:08:26.076394",
     "status": "completed"
    },
    "tags": []
   },
   "outputs": [
    {
     "data": {
      "text/plain": [
       "count    19.000000\n",
       "mean     88.233026\n",
       "std       1.243610\n",
       "min      85.855422\n",
       "25%      87.323501\n",
       "50%      88.536235\n",
       "75%      88.975256\n",
       "max      90.562551\n",
       "Name: points, dtype: float64"
      ]
     },
     "execution_count": 12,
     "metadata": {},
     "output_type": "execute_result"
    }
   ],
   "source": [
    "reviewer_mean_ratings.describe()"
   ]
  },
  {
   "cell_type": "markdown",
   "id": "94179117",
   "metadata": {
    "papermill": {
     "duration": 0.023943,
     "end_time": "2021-11-29T08:08:26.163787",
     "exception": false,
     "start_time": "2021-11-29T08:08:26.139844",
     "status": "completed"
    },
    "tags": []
   },
   "source": [
    "## 6.\n",
    "What combination of countries and varieties are most common? Create a `Series` whose index is a `MultiIndex`of `{country, variety}` pairs. For example, a pinot noir produced in the US should map to `{\"US\", \"Pinot Noir\"}`. Sort the values in the `Series` in descending order based on wine count."
   ]
  },
  {
   "cell_type": "code",
   "execution_count": 13,
   "id": "be437039",
   "metadata": {
    "execution": {
     "iopub.execute_input": "2021-11-29T08:08:26.216551Z",
     "iopub.status.busy": "2021-11-29T08:08:26.215469Z",
     "iopub.status.idle": "2021-11-29T08:08:26.264756Z",
     "shell.execute_reply": "2021-11-29T08:08:26.265350Z",
     "shell.execute_reply.started": "2021-11-29T08:07:35.733823Z"
    },
    "papermill": {
     "duration": 0.07774,
     "end_time": "2021-11-29T08:08:26.265553",
     "exception": false,
     "start_time": "2021-11-29T08:08:26.187813",
     "status": "completed"
    },
    "tags": []
   },
   "outputs": [
    {
     "data": {
      "application/javascript": [
       "parent.postMessage({\"jupyterEvent\": \"custom.exercise_interaction\", \"data\": {\"outcomeType\": 1, \"valueTowardsCompletion\": 0.16666666666666666, \"interactionType\": 1, \"questionType\": 1, \"questionId\": \"6_GroupbyCountryVariety\", \"learnToolsVersion\": \"0.3.4\", \"failureMessage\": \"\", \"exceptionClass\": \"\", \"trace\": \"\"}}, \"*\")"
      ],
      "text/plain": [
       "<IPython.core.display.Javascript object>"
      ]
     },
     "metadata": {},
     "output_type": "display_data"
    },
    {
     "data": {
      "text/markdown": [
       "<span style=\"color:#33cc33\">Correct</span>"
      ],
      "text/plain": [
       "Correct"
      ]
     },
     "metadata": {},
     "output_type": "display_data"
    }
   ],
   "source": [
    "country_variety_counts = reviews.groupby(['country', 'variety']).size().sort_values(ascending=False)\n",
    "\n",
    "# Check your answer\n",
    "q6.check()"
   ]
  },
  {
   "cell_type": "code",
   "execution_count": 14,
   "id": "d343d77f",
   "metadata": {
    "execution": {
     "iopub.execute_input": "2021-11-29T08:08:26.320134Z",
     "iopub.status.busy": "2021-11-29T08:08:26.318925Z",
     "iopub.status.idle": "2021-11-29T08:08:26.322466Z",
     "shell.execute_reply": "2021-11-29T08:08:26.323106Z",
     "shell.execute_reply.started": "2021-11-29T08:07:48.134161Z"
    },
    "papermill": {
     "duration": 0.033203,
     "end_time": "2021-11-29T08:08:26.323312",
     "exception": false,
     "start_time": "2021-11-29T08:08:26.290109",
     "status": "completed"
    },
    "tags": []
   },
   "outputs": [],
   "source": [
    "#q6.hint()\n",
    "#q6.solution()"
   ]
  },
  {
   "cell_type": "markdown",
   "id": "0e653720",
   "metadata": {
    "papermill": {
     "duration": 0.02444,
     "end_time": "2021-11-29T08:08:26.373257",
     "exception": false,
     "start_time": "2021-11-29T08:08:26.348817",
     "status": "completed"
    },
    "tags": []
   },
   "source": [
    "# Keep going\n",
    "\n",
    "Move on to the [**data types and missing data**](https://www.kaggle.com/residentmario/data-types-and-missing-values)."
   ]
  },
  {
   "cell_type": "markdown",
   "id": "88043950",
   "metadata": {
    "papermill": {
     "duration": 0.023984,
     "end_time": "2021-11-29T08:08:26.421695",
     "exception": false,
     "start_time": "2021-11-29T08:08:26.397711",
     "status": "completed"
    },
    "tags": []
   },
   "source": [
    "---\n",
    "\n",
    "\n",
    "\n",
    "\n",
    "*Have questions or comments? Visit the [course discussion forum](https://www.kaggle.com/learn/pandas/discussion) to chat with other learners.*"
   ]
  }
 ],
 "metadata": {
  "kernelspec": {
   "display_name": "Python 3",
   "language": "python",
   "name": "python3"
  },
  "language_info": {
   "codemirror_mode": {
    "name": "ipython",
    "version": 3
   },
   "file_extension": ".py",
   "mimetype": "text/x-python",
   "name": "python",
   "nbconvert_exporter": "python",
   "pygments_lexer": "ipython3",
   "version": "3.7.10"
  },
  "papermill": {
   "default_parameters": {},
   "duration": 16.569493,
   "end_time": "2021-11-29T08:08:27.358219",
   "environment_variables": {},
   "exception": null,
   "input_path": "__notebook__.ipynb",
   "output_path": "__notebook__.ipynb",
   "parameters": {},
   "start_time": "2021-11-29T08:08:10.788726",
   "version": "2.3.3"
  }
 },
 "nbformat": 4,
 "nbformat_minor": 5
}
