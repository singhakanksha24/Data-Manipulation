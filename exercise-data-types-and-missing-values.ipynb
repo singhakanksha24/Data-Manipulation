{
 "cells": [
  {
   "cell_type": "markdown",
   "id": "52d11e1a",
   "metadata": {
    "papermill": {
     "duration": 0.015619,
     "end_time": "2021-11-29T08:11:43.045705",
     "exception": false,
     "start_time": "2021-11-29T08:11:43.030086",
     "status": "completed"
    },
    "tags": []
   },
   "source": [
    "**This notebook is an exercise in the [Pandas](https://www.kaggle.com/learn/pandas) course.  You can reference the tutorial at [this link](https://www.kaggle.com/residentmario/data-types-and-missing-values).**\n",
    "\n",
    "---\n"
   ]
  },
  {
   "cell_type": "markdown",
   "id": "e14b44bf",
   "metadata": {
    "papermill": {
     "duration": 0.009304,
     "end_time": "2021-11-29T08:11:43.065915",
     "exception": false,
     "start_time": "2021-11-29T08:11:43.056611",
     "status": "completed"
    },
    "tags": []
   },
   "source": [
    "# Introduction\n",
    "\n",
    "Run the following cell to load your data and some utility functions."
   ]
  },
  {
   "cell_type": "code",
   "execution_count": 1,
   "id": "1ad46b77",
   "metadata": {
    "execution": {
     "iopub.execute_input": "2021-11-29T08:11:43.090657Z",
     "iopub.status.busy": "2021-11-29T08:11:43.089346Z",
     "iopub.status.idle": "2021-11-29T08:11:45.771697Z",
     "shell.execute_reply": "2021-11-29T08:11:45.772140Z",
     "shell.execute_reply.started": "2021-11-29T08:09:38.383719Z"
    },
    "papermill": {
     "duration": 2.697277,
     "end_time": "2021-11-29T08:11:45.772439",
     "exception": false,
     "start_time": "2021-11-29T08:11:43.075162",
     "status": "completed"
    },
    "tags": []
   },
   "outputs": [
    {
     "name": "stdout",
     "output_type": "stream",
     "text": [
      "Setup complete.\n"
     ]
    }
   ],
   "source": [
    "import pandas as pd\n",
    "\n",
    "reviews = pd.read_csv(\"../input/wine-reviews/winemag-data-130k-v2.csv\", index_col=0)\n",
    "\n",
    "from learntools.core import binder; binder.bind(globals())\n",
    "from learntools.pandas.data_types_and_missing_data import *\n",
    "print(\"Setup complete.\")"
   ]
  },
  {
   "cell_type": "markdown",
   "id": "c47495a8",
   "metadata": {
    "papermill": {
     "duration": 0.009245,
     "end_time": "2021-11-29T08:11:45.791900",
     "exception": false,
     "start_time": "2021-11-29T08:11:45.782655",
     "status": "completed"
    },
    "tags": []
   },
   "source": [
    "# Exercises"
   ]
  },
  {
   "cell_type": "markdown",
   "id": "90d79711",
   "metadata": {
    "papermill": {
     "duration": 0.009476,
     "end_time": "2021-11-29T08:11:45.810944",
     "exception": false,
     "start_time": "2021-11-29T08:11:45.801468",
     "status": "completed"
    },
    "tags": []
   },
   "source": [
    "## 1. \n",
    "What is the data type of the `points` column in the dataset?"
   ]
  },
  {
   "cell_type": "code",
   "execution_count": 2,
   "id": "c45151e7",
   "metadata": {
    "execution": {
     "iopub.execute_input": "2021-11-29T08:11:45.838961Z",
     "iopub.status.busy": "2021-11-29T08:11:45.838042Z",
     "iopub.status.idle": "2021-11-29T08:11:45.842853Z",
     "shell.execute_reply": "2021-11-29T08:11:45.843419Z",
     "shell.execute_reply.started": "2021-11-29T08:09:52.419583Z"
    },
    "papermill": {
     "duration": 0.022753,
     "end_time": "2021-11-29T08:11:45.843577",
     "exception": false,
     "start_time": "2021-11-29T08:11:45.820824",
     "status": "completed"
    },
    "tags": []
   },
   "outputs": [
    {
     "data": {
      "application/javascript": [
       "parent.postMessage({\"jupyterEvent\": \"custom.exercise_interaction\", \"data\": {\"outcomeType\": 1, \"valueTowardsCompletion\": 0.25, \"interactionType\": 1, \"questionType\": 1, \"questionId\": \"1_PointsDtype\", \"learnToolsVersion\": \"0.3.4\", \"failureMessage\": \"\", \"exceptionClass\": \"\", \"trace\": \"\"}}, \"*\")"
      ],
      "text/plain": [
       "<IPython.core.display.Javascript object>"
      ]
     },
     "metadata": {},
     "output_type": "display_data"
    },
    {
     "data": {
      "text/markdown": [
       "<span style=\"color:#33cc33\">Correct</span>"
      ],
      "text/plain": [
       "Correct"
      ]
     },
     "metadata": {},
     "output_type": "display_data"
    }
   ],
   "source": [
    "# Your code here\n",
    "dtype = reviews.points.dtype\n",
    "\n",
    "# Check your answer\n",
    "q1.check()"
   ]
  },
  {
   "cell_type": "code",
   "execution_count": 3,
   "id": "850f853b",
   "metadata": {
    "execution": {
     "iopub.execute_input": "2021-11-29T08:11:45.868256Z",
     "iopub.status.busy": "2021-11-29T08:11:45.867338Z",
     "iopub.status.idle": "2021-11-29T08:11:45.870379Z",
     "shell.execute_reply": "2021-11-29T08:11:45.870806Z",
     "shell.execute_reply.started": "2021-11-29T08:09:55.349188Z"
    },
    "papermill": {
     "duration": 0.01695,
     "end_time": "2021-11-29T08:11:45.870972",
     "exception": false,
     "start_time": "2021-11-29T08:11:45.854022",
     "status": "completed"
    },
    "tags": []
   },
   "outputs": [],
   "source": [
    "#q1.hint()\n",
    "#q1.solution()"
   ]
  },
  {
   "cell_type": "markdown",
   "id": "475dd605",
   "metadata": {
    "papermill": {
     "duration": 0.010023,
     "end_time": "2021-11-29T08:11:45.891291",
     "exception": false,
     "start_time": "2021-11-29T08:11:45.881268",
     "status": "completed"
    },
    "tags": []
   },
   "source": [
    "## 2. \n",
    "Create a Series from entries in the `points` column, but convert the entries to strings. Hint: strings are `str` in native Python."
   ]
  },
  {
   "cell_type": "code",
   "execution_count": 4,
   "id": "1f01b78a",
   "metadata": {
    "execution": {
     "iopub.execute_input": "2021-11-29T08:11:45.915655Z",
     "iopub.status.busy": "2021-11-29T08:11:45.914762Z",
     "iopub.status.idle": "2021-11-29T08:11:46.007546Z",
     "shell.execute_reply": "2021-11-29T08:11:46.007036Z",
     "shell.execute_reply.started": "2021-11-29T08:10:17.475397Z"
    },
    "papermill": {
     "duration": 0.106148,
     "end_time": "2021-11-29T08:11:46.007680",
     "exception": false,
     "start_time": "2021-11-29T08:11:45.901532",
     "status": "completed"
    },
    "tags": []
   },
   "outputs": [
    {
     "data": {
      "application/javascript": [
       "parent.postMessage({\"jupyterEvent\": \"custom.exercise_interaction\", \"data\": {\"outcomeType\": 1, \"valueTowardsCompletion\": 0.25, \"interactionType\": 1, \"questionType\": 1, \"questionId\": \"2_StrPoints\", \"learnToolsVersion\": \"0.3.4\", \"failureMessage\": \"\", \"exceptionClass\": \"\", \"trace\": \"\"}}, \"*\")"
      ],
      "text/plain": [
       "<IPython.core.display.Javascript object>"
      ]
     },
     "metadata": {},
     "output_type": "display_data"
    },
    {
     "data": {
      "text/markdown": [
       "<span style=\"color:#33cc33\">Correct</span>"
      ],
      "text/plain": [
       "Correct"
      ]
     },
     "metadata": {},
     "output_type": "display_data"
    }
   ],
   "source": [
    "point_strings = reviews.points.astype(str)\n",
    "\n",
    "# Check your answer\n",
    "q2.check()"
   ]
  },
  {
   "cell_type": "code",
   "execution_count": 5,
   "id": "81375c6b",
   "metadata": {
    "execution": {
     "iopub.execute_input": "2021-11-29T08:11:46.035483Z",
     "iopub.status.busy": "2021-11-29T08:11:46.034762Z",
     "iopub.status.idle": "2021-11-29T08:11:46.037276Z",
     "shell.execute_reply": "2021-11-29T08:11:46.037809Z",
     "shell.execute_reply.started": "2021-11-29T08:10:21.195060Z"
    },
    "papermill": {
     "duration": 0.019072,
     "end_time": "2021-11-29T08:11:46.037969",
     "exception": false,
     "start_time": "2021-11-29T08:11:46.018897",
     "status": "completed"
    },
    "tags": []
   },
   "outputs": [],
   "source": [
    "#q2.hint()\n",
    "#q2.solution()"
   ]
  },
  {
   "cell_type": "markdown",
   "id": "f143232a",
   "metadata": {
    "papermill": {
     "duration": 0.010953,
     "end_time": "2021-11-29T08:11:46.060176",
     "exception": false,
     "start_time": "2021-11-29T08:11:46.049223",
     "status": "completed"
    },
    "tags": []
   },
   "source": [
    "## 3.\n",
    "Sometimes the price column is null. How many reviews in the dataset are missing a price?"
   ]
  },
  {
   "cell_type": "code",
   "execution_count": 6,
   "id": "4d88d98a",
   "metadata": {
    "execution": {
     "iopub.execute_input": "2021-11-29T08:11:46.086306Z",
     "iopub.status.busy": "2021-11-29T08:11:46.085412Z",
     "iopub.status.idle": "2021-11-29T08:11:46.099039Z",
     "shell.execute_reply": "2021-11-29T08:11:46.099598Z",
     "shell.execute_reply.started": "2021-11-29T08:10:55.574799Z"
    },
    "papermill": {
     "duration": 0.028366,
     "end_time": "2021-11-29T08:11:46.099763",
     "exception": false,
     "start_time": "2021-11-29T08:11:46.071397",
     "status": "completed"
    },
    "tags": []
   },
   "outputs": [
    {
     "data": {
      "application/javascript": [
       "parent.postMessage({\"jupyterEvent\": \"custom.exercise_interaction\", \"data\": {\"outcomeType\": 1, \"valueTowardsCompletion\": 0.25, \"interactionType\": 1, \"questionType\": 1, \"questionId\": \"3_CountMissingPrices\", \"learnToolsVersion\": \"0.3.4\", \"failureMessage\": \"\", \"exceptionClass\": \"\", \"trace\": \"\"}}, \"*\")"
      ],
      "text/plain": [
       "<IPython.core.display.Javascript object>"
      ]
     },
     "metadata": {},
     "output_type": "display_data"
    },
    {
     "data": {
      "text/markdown": [
       "<span style=\"color:#33cc33\">Correct</span>"
      ],
      "text/plain": [
       "Correct"
      ]
     },
     "metadata": {},
     "output_type": "display_data"
    }
   ],
   "source": [
    "missing_price_reviews = reviews[reviews.price.isnull()]\n",
    "n_missing_prices = len(missing_price_reviews)\n",
    "\n",
    "\n",
    "# Check your answer\n",
    "q3.check()"
   ]
  },
  {
   "cell_type": "code",
   "execution_count": 7,
   "id": "349478dc",
   "metadata": {
    "execution": {
     "iopub.execute_input": "2021-11-29T08:11:46.126982Z",
     "iopub.status.busy": "2021-11-29T08:11:46.126108Z",
     "iopub.status.idle": "2021-11-29T08:11:46.129045Z",
     "shell.execute_reply": "2021-11-29T08:11:46.129542Z",
     "shell.execute_reply.started": "2021-11-29T08:11:00.044349Z"
    },
    "papermill": {
     "duration": 0.018005,
     "end_time": "2021-11-29T08:11:46.129694",
     "exception": false,
     "start_time": "2021-11-29T08:11:46.111689",
     "status": "completed"
    },
    "tags": []
   },
   "outputs": [],
   "source": [
    "#q3.hint()\n",
    "#q3.solution()"
   ]
  },
  {
   "cell_type": "markdown",
   "id": "b576ffef",
   "metadata": {
    "papermill": {
     "duration": 0.011512,
     "end_time": "2021-11-29T08:11:46.152991",
     "exception": false,
     "start_time": "2021-11-29T08:11:46.141479",
     "status": "completed"
    },
    "tags": []
   },
   "source": [
    "## 4.\n",
    "What are the most common wine-producing regions? Create a Series counting the number of times each value occurs in the `region_1` field. This field is often missing data, so replace missing values with `Unknown`. Sort in descending order.  Your output should look something like this:\n",
    "\n",
    "```\n",
    "Unknown                    21247\n",
    "Napa Valley                 4480\n",
    "                           ...  \n",
    "Bardolino Superiore            1\n",
    "Primitivo del Tarantino        1\n",
    "Name: region_1, Length: 1230, dtype: int64\n",
    "```"
   ]
  },
  {
   "cell_type": "code",
   "execution_count": 8,
   "id": "fba94018",
   "metadata": {
    "execution": {
     "iopub.execute_input": "2021-11-29T08:11:46.180049Z",
     "iopub.status.busy": "2021-11-29T08:11:46.179166Z",
     "iopub.status.idle": "2021-11-29T08:11:46.218761Z",
     "shell.execute_reply": "2021-11-29T08:11:46.219180Z",
     "shell.execute_reply.started": "2021-11-29T08:11:12.519364Z"
    },
    "papermill": {
     "duration": 0.05458,
     "end_time": "2021-11-29T08:11:46.219365",
     "exception": false,
     "start_time": "2021-11-29T08:11:46.164785",
     "status": "completed"
    },
    "tags": []
   },
   "outputs": [
    {
     "data": {
      "application/javascript": [
       "parent.postMessage({\"jupyterEvent\": \"custom.exercise_interaction\", \"data\": {\"outcomeType\": 1, \"valueTowardsCompletion\": 0.25, \"interactionType\": 1, \"questionType\": 2, \"questionId\": \"4_ReviewsPerRegion\", \"learnToolsVersion\": \"0.3.4\", \"failureMessage\": \"\", \"exceptionClass\": \"\", \"trace\": \"\"}}, \"*\")"
      ],
      "text/plain": [
       "<IPython.core.display.Javascript object>"
      ]
     },
     "metadata": {},
     "output_type": "display_data"
    },
    {
     "data": {
      "text/markdown": [
       "<span style=\"color:#33cc33\">Correct</span>"
      ],
      "text/plain": [
       "Correct"
      ]
     },
     "metadata": {},
     "output_type": "display_data"
    }
   ],
   "source": [
    "reviews_per_region = reviews.region_1.fillna('Unknown').value_counts().sort_values(ascending=False)\n",
    "\n",
    "# Check your answer\n",
    "q4.check()"
   ]
  },
  {
   "cell_type": "code",
   "execution_count": 9,
   "id": "d8876a49",
   "metadata": {
    "execution": {
     "iopub.execute_input": "2021-11-29T08:11:46.248298Z",
     "iopub.status.busy": "2021-11-29T08:11:46.247445Z",
     "iopub.status.idle": "2021-11-29T08:11:46.250518Z",
     "shell.execute_reply": "2021-11-29T08:11:46.250948Z",
     "shell.execute_reply.started": "2021-11-29T08:11:15.944603Z"
    },
    "papermill": {
     "duration": 0.018985,
     "end_time": "2021-11-29T08:11:46.251102",
     "exception": false,
     "start_time": "2021-11-29T08:11:46.232117",
     "status": "completed"
    },
    "tags": []
   },
   "outputs": [],
   "source": [
    "#q4.hint()\n",
    "#q4.solution()"
   ]
  },
  {
   "cell_type": "markdown",
   "id": "84c23cef",
   "metadata": {
    "papermill": {
     "duration": 0.012598,
     "end_time": "2021-11-29T08:11:46.276487",
     "exception": false,
     "start_time": "2021-11-29T08:11:46.263889",
     "status": "completed"
    },
    "tags": []
   },
   "source": [
    "# Keep going\n",
    "\n",
    "Move on to **[renaming and combining](https://www.kaggle.com/residentmario/renaming-and-combining)**."
   ]
  },
  {
   "cell_type": "markdown",
   "id": "e7bf8b5b",
   "metadata": {
    "papermill": {
     "duration": 0.012586,
     "end_time": "2021-11-29T08:11:46.301922",
     "exception": false,
     "start_time": "2021-11-29T08:11:46.289336",
     "status": "completed"
    },
    "tags": []
   },
   "source": [
    "---\n",
    "\n",
    "\n",
    "\n",
    "\n",
    "*Have questions or comments? Visit the [course discussion forum](https://www.kaggle.com/learn/pandas/discussion) to chat with other learners.*"
   ]
  }
 ],
 "metadata": {
  "kernelspec": {
   "display_name": "Python 3",
   "language": "python",
   "name": "python3"
  },
  "language_info": {
   "codemirror_mode": {
    "name": "ipython",
    "version": 3
   },
   "file_extension": ".py",
   "mimetype": "text/x-python",
   "name": "python",
   "nbconvert_exporter": "python",
   "pygments_lexer": "ipython3",
   "version": "3.7.10"
  },
  "papermill": {
   "default_parameters": {},
   "duration": 11.566617,
   "end_time": "2021-11-29T08:11:46.923805",
   "environment_variables": {},
   "exception": null,
   "input_path": "__notebook__.ipynb",
   "output_path": "__notebook__.ipynb",
   "parameters": {},
   "start_time": "2021-11-29T08:11:35.357188",
   "version": "2.3.3"
  }
 },
 "nbformat": 4,
 "nbformat_minor": 5
}
