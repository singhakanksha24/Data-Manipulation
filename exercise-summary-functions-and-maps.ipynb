{
 "cells": [
  {
   "cell_type": "markdown",
   "id": "f3811247",
   "metadata": {
    "papermill": {
     "duration": 0.019702,
     "end_time": "2021-11-29T08:02:07.824607",
     "exception": false,
     "start_time": "2021-11-29T08:02:07.804905",
     "status": "completed"
    },
    "tags": []
   },
   "source": [
    "**This notebook is an exercise in the [Pandas](https://www.kaggle.com/learn/pandas) course.  You can reference the tutorial at [this link](https://www.kaggle.com/residentmario/summary-functions-and-maps).**\n",
    "\n",
    "---\n"
   ]
  },
  {
   "cell_type": "markdown",
   "id": "da16800d",
   "metadata": {
    "papermill": {
     "duration": 0.020213,
     "end_time": "2021-11-29T08:02:07.863825",
     "exception": false,
     "start_time": "2021-11-29T08:02:07.843612",
     "status": "completed"
    },
    "tags": []
   },
   "source": [
    "# Introduction\n",
    "\n",
    "Now you are ready to get a deeper understanding of your data.\n",
    "\n",
    "Run the following cell to load your data and some utility functions (including code to check your answers)."
   ]
  },
  {
   "cell_type": "code",
   "execution_count": 1,
   "id": "842f814f",
   "metadata": {
    "execution": {
     "iopub.execute_input": "2021-11-29T08:02:07.905488Z",
     "iopub.status.busy": "2021-11-29T08:02:07.904285Z",
     "iopub.status.idle": "2021-11-29T08:02:15.623338Z",
     "shell.execute_reply": "2021-11-29T08:02:15.623882Z",
     "shell.execute_reply.started": "2021-11-29T07:58:33.844193Z"
    },
    "papermill": {
     "duration": 7.74181,
     "end_time": "2021-11-29T08:02:15.624147",
     "exception": false,
     "start_time": "2021-11-29T08:02:07.882337",
     "status": "completed"
    },
    "tags": []
   },
   "outputs": [
    {
     "name": "stdout",
     "output_type": "stream",
     "text": [
      "Setup complete.\n"
     ]
    },
    {
     "data": {
      "text/html": [
       "<div>\n",
       "<style scoped>\n",
       "    .dataframe tbody tr th:only-of-type {\n",
       "        vertical-align: middle;\n",
       "    }\n",
       "\n",
       "    .dataframe tbody tr th {\n",
       "        vertical-align: top;\n",
       "    }\n",
       "\n",
       "    .dataframe thead th {\n",
       "        text-align: right;\n",
       "    }\n",
       "</style>\n",
       "<table border=\"1\" class=\"dataframe\">\n",
       "  <thead>\n",
       "    <tr style=\"text-align: right;\">\n",
       "      <th></th>\n",
       "      <th>country</th>\n",
       "      <th>description</th>\n",
       "      <th>designation</th>\n",
       "      <th>points</th>\n",
       "      <th>price</th>\n",
       "      <th>province</th>\n",
       "      <th>region_1</th>\n",
       "      <th>region_2</th>\n",
       "      <th>taster_name</th>\n",
       "      <th>taster_twitter_handle</th>\n",
       "      <th>title</th>\n",
       "      <th>variety</th>\n",
       "      <th>winery</th>\n",
       "    </tr>\n",
       "  </thead>\n",
       "  <tbody>\n",
       "    <tr>\n",
       "      <th>0</th>\n",
       "      <td>Italy</td>\n",
       "      <td>Aromas include tropical fruit, broom, brimston...</td>\n",
       "      <td>Vulkà Bianco</td>\n",
       "      <td>87</td>\n",
       "      <td>NaN</td>\n",
       "      <td>Sicily &amp; Sardinia</td>\n",
       "      <td>Etna</td>\n",
       "      <td>NaN</td>\n",
       "      <td>Kerin O’Keefe</td>\n",
       "      <td>@kerinokeefe</td>\n",
       "      <td>Nicosia 2013 Vulkà Bianco  (Etna)</td>\n",
       "      <td>White Blend</td>\n",
       "      <td>Nicosia</td>\n",
       "    </tr>\n",
       "    <tr>\n",
       "      <th>1</th>\n",
       "      <td>Portugal</td>\n",
       "      <td>This is ripe and fruity, a wine that is smooth...</td>\n",
       "      <td>Avidagos</td>\n",
       "      <td>87</td>\n",
       "      <td>15.0</td>\n",
       "      <td>Douro</td>\n",
       "      <td>NaN</td>\n",
       "      <td>NaN</td>\n",
       "      <td>Roger Voss</td>\n",
       "      <td>@vossroger</td>\n",
       "      <td>Quinta dos Avidagos 2011 Avidagos Red (Douro)</td>\n",
       "      <td>Portuguese Red</td>\n",
       "      <td>Quinta dos Avidagos</td>\n",
       "    </tr>\n",
       "    <tr>\n",
       "      <th>2</th>\n",
       "      <td>US</td>\n",
       "      <td>Tart and snappy, the flavors of lime flesh and...</td>\n",
       "      <td>NaN</td>\n",
       "      <td>87</td>\n",
       "      <td>14.0</td>\n",
       "      <td>Oregon</td>\n",
       "      <td>Willamette Valley</td>\n",
       "      <td>Willamette Valley</td>\n",
       "      <td>Paul Gregutt</td>\n",
       "      <td>@paulgwine</td>\n",
       "      <td>Rainstorm 2013 Pinot Gris (Willamette Valley)</td>\n",
       "      <td>Pinot Gris</td>\n",
       "      <td>Rainstorm</td>\n",
       "    </tr>\n",
       "    <tr>\n",
       "      <th>3</th>\n",
       "      <td>US</td>\n",
       "      <td>Pineapple rind, lemon pith and orange blossom ...</td>\n",
       "      <td>Reserve Late Harvest</td>\n",
       "      <td>87</td>\n",
       "      <td>13.0</td>\n",
       "      <td>Michigan</td>\n",
       "      <td>Lake Michigan Shore</td>\n",
       "      <td>NaN</td>\n",
       "      <td>Alexander Peartree</td>\n",
       "      <td>NaN</td>\n",
       "      <td>St. Julian 2013 Reserve Late Harvest Riesling ...</td>\n",
       "      <td>Riesling</td>\n",
       "      <td>St. Julian</td>\n",
       "    </tr>\n",
       "    <tr>\n",
       "      <th>4</th>\n",
       "      <td>US</td>\n",
       "      <td>Much like the regular bottling from 2012, this...</td>\n",
       "      <td>Vintner's Reserve Wild Child Block</td>\n",
       "      <td>87</td>\n",
       "      <td>65.0</td>\n",
       "      <td>Oregon</td>\n",
       "      <td>Willamette Valley</td>\n",
       "      <td>Willamette Valley</td>\n",
       "      <td>Paul Gregutt</td>\n",
       "      <td>@paulgwine</td>\n",
       "      <td>Sweet Cheeks 2012 Vintner's Reserve Wild Child...</td>\n",
       "      <td>Pinot Noir</td>\n",
       "      <td>Sweet Cheeks</td>\n",
       "    </tr>\n",
       "  </tbody>\n",
       "</table>\n",
       "</div>"
      ],
      "text/plain": [
       "    country                                        description  \\\n",
       "0     Italy  Aromas include tropical fruit, broom, brimston...   \n",
       "1  Portugal  This is ripe and fruity, a wine that is smooth...   \n",
       "2        US  Tart and snappy, the flavors of lime flesh and...   \n",
       "3        US  Pineapple rind, lemon pith and orange blossom ...   \n",
       "4        US  Much like the regular bottling from 2012, this...   \n",
       "\n",
       "                          designation  points  price           province  \\\n",
       "0                        Vulkà Bianco      87    NaN  Sicily & Sardinia   \n",
       "1                            Avidagos      87   15.0              Douro   \n",
       "2                                 NaN      87   14.0             Oregon   \n",
       "3                Reserve Late Harvest      87   13.0           Michigan   \n",
       "4  Vintner's Reserve Wild Child Block      87   65.0             Oregon   \n",
       "\n",
       "              region_1           region_2         taster_name  \\\n",
       "0                 Etna                NaN       Kerin O’Keefe   \n",
       "1                  NaN                NaN          Roger Voss   \n",
       "2    Willamette Valley  Willamette Valley        Paul Gregutt   \n",
       "3  Lake Michigan Shore                NaN  Alexander Peartree   \n",
       "4    Willamette Valley  Willamette Valley        Paul Gregutt   \n",
       "\n",
       "  taster_twitter_handle                                              title  \\\n",
       "0          @kerinokeefe                  Nicosia 2013 Vulkà Bianco  (Etna)   \n",
       "1            @vossroger      Quinta dos Avidagos 2011 Avidagos Red (Douro)   \n",
       "2           @paulgwine       Rainstorm 2013 Pinot Gris (Willamette Valley)   \n",
       "3                   NaN  St. Julian 2013 Reserve Late Harvest Riesling ...   \n",
       "4           @paulgwine   Sweet Cheeks 2012 Vintner's Reserve Wild Child...   \n",
       "\n",
       "          variety               winery  \n",
       "0     White Blend              Nicosia  \n",
       "1  Portuguese Red  Quinta dos Avidagos  \n",
       "2      Pinot Gris            Rainstorm  \n",
       "3        Riesling           St. Julian  \n",
       "4      Pinot Noir         Sweet Cheeks  "
      ]
     },
     "execution_count": 1,
     "metadata": {},
     "output_type": "execute_result"
    }
   ],
   "source": [
    "import pandas as pd\n",
    "pd.set_option(\"display.max_rows\", 5)\n",
    "reviews = pd.read_csv(\"../input/wine-reviews/winemag-data-130k-v2.csv\", index_col=0)\n",
    "\n",
    "from learntools.core import binder; binder.bind(globals())\n",
    "from learntools.pandas.summary_functions_and_maps import *\n",
    "print(\"Setup complete.\")\n",
    "\n",
    "reviews.head()"
   ]
  },
  {
   "cell_type": "markdown",
   "id": "7335b3fe",
   "metadata": {
    "papermill": {
     "duration": 0.019201,
     "end_time": "2021-11-29T08:02:15.662972",
     "exception": false,
     "start_time": "2021-11-29T08:02:15.643771",
     "status": "completed"
    },
    "tags": []
   },
   "source": [
    "# Exercises"
   ]
  },
  {
   "cell_type": "markdown",
   "id": "e831c0bf",
   "metadata": {
    "papermill": {
     "duration": 0.018989,
     "end_time": "2021-11-29T08:02:15.701485",
     "exception": false,
     "start_time": "2021-11-29T08:02:15.682496",
     "status": "completed"
    },
    "tags": []
   },
   "source": [
    "## 1.\n",
    "\n",
    "What is the median of the `points` column in the `reviews` DataFrame?"
   ]
  },
  {
   "cell_type": "code",
   "execution_count": 2,
   "id": "52bb6aa9",
   "metadata": {
    "execution": {
     "iopub.execute_input": "2021-11-29T08:02:15.745592Z",
     "iopub.status.busy": "2021-11-29T08:02:15.744656Z",
     "iopub.status.idle": "2021-11-29T08:02:15.751311Z",
     "shell.execute_reply": "2021-11-29T08:02:15.750838Z",
     "shell.execute_reply.started": "2021-11-29T07:58:50.794859Z"
    },
    "papermill": {
     "duration": 0.030638,
     "end_time": "2021-11-29T08:02:15.751480",
     "exception": false,
     "start_time": "2021-11-29T08:02:15.720842",
     "status": "completed"
    },
    "tags": []
   },
   "outputs": [
    {
     "data": {
      "application/javascript": [
       "parent.postMessage({\"jupyterEvent\": \"custom.exercise_interaction\", \"data\": {\"outcomeType\": 1, \"valueTowardsCompletion\": 0.14285714285714285, \"interactionType\": 1, \"questionType\": 1, \"questionId\": \"1_MedianPoints\", \"learnToolsVersion\": \"0.3.4\", \"failureMessage\": \"\", \"exceptionClass\": \"\", \"trace\": \"\"}}, \"*\")"
      ],
      "text/plain": [
       "<IPython.core.display.Javascript object>"
      ]
     },
     "metadata": {},
     "output_type": "display_data"
    },
    {
     "data": {
      "text/markdown": [
       "<span style=\"color:#33cc33\">Correct</span>"
      ],
      "text/plain": [
       "Correct"
      ]
     },
     "metadata": {},
     "output_type": "display_data"
    }
   ],
   "source": [
    "median_points = reviews.points.median()\n",
    "\n",
    "# Check your answer\n",
    "q1.check()"
   ]
  },
  {
   "cell_type": "code",
   "execution_count": 3,
   "id": "81188f9b",
   "metadata": {
    "execution": {
     "iopub.execute_input": "2021-11-29T08:02:15.797513Z",
     "iopub.status.busy": "2021-11-29T08:02:15.796614Z",
     "iopub.status.idle": "2021-11-29T08:02:15.798970Z",
     "shell.execute_reply": "2021-11-29T08:02:15.799466Z",
     "shell.execute_reply.started": "2021-11-29T07:58:55.544475Z"
    },
    "papermill": {
     "duration": 0.027375,
     "end_time": "2021-11-29T08:02:15.799620",
     "exception": false,
     "start_time": "2021-11-29T08:02:15.772245",
     "status": "completed"
    },
    "tags": []
   },
   "outputs": [],
   "source": [
    "#q1.hint()\n",
    "#q1.solution()"
   ]
  },
  {
   "cell_type": "markdown",
   "id": "ae082a42",
   "metadata": {
    "papermill": {
     "duration": 0.020222,
     "end_time": "2021-11-29T08:02:15.840380",
     "exception": false,
     "start_time": "2021-11-29T08:02:15.820158",
     "status": "completed"
    },
    "tags": []
   },
   "source": [
    "## 2. \n",
    "What countries are represented in the dataset? (Your answer should not include any duplicates.)"
   ]
  },
  {
   "cell_type": "code",
   "execution_count": 4,
   "id": "f8cdeb16",
   "metadata": {
    "execution": {
     "iopub.execute_input": "2021-11-29T08:02:15.900822Z",
     "iopub.status.busy": "2021-11-29T08:02:15.899832Z",
     "iopub.status.idle": "2021-11-29T08:02:15.905285Z",
     "shell.execute_reply": "2021-11-29T08:02:15.904764Z",
     "shell.execute_reply.started": "2021-11-29T07:59:07.754340Z"
    },
    "papermill": {
     "duration": 0.044623,
     "end_time": "2021-11-29T08:02:15.905446",
     "exception": false,
     "start_time": "2021-11-29T08:02:15.860823",
     "status": "completed"
    },
    "tags": []
   },
   "outputs": [
    {
     "data": {
      "application/javascript": [
       "parent.postMessage({\"jupyterEvent\": \"custom.exercise_interaction\", \"data\": {\"outcomeType\": 1, \"valueTowardsCompletion\": 0.14285714285714285, \"interactionType\": 1, \"questionType\": 2, \"questionId\": \"2_UniqueCountries\", \"learnToolsVersion\": \"0.3.4\", \"failureMessage\": \"\", \"exceptionClass\": \"\", \"trace\": \"\"}}, \"*\")"
      ],
      "text/plain": [
       "<IPython.core.display.Javascript object>"
      ]
     },
     "metadata": {},
     "output_type": "display_data"
    },
    {
     "data": {
      "text/markdown": [
       "<span style=\"color:#33cc33\">Correct</span>"
      ],
      "text/plain": [
       "Correct"
      ]
     },
     "metadata": {},
     "output_type": "display_data"
    }
   ],
   "source": [
    "countries = reviews.country.unique()\n",
    "\n",
    "# Check your answer\n",
    "q2.check()"
   ]
  },
  {
   "cell_type": "code",
   "execution_count": 5,
   "id": "e6165158",
   "metadata": {
    "execution": {
     "iopub.execute_input": "2021-11-29T08:02:15.952618Z",
     "iopub.status.busy": "2021-11-29T08:02:15.951265Z",
     "iopub.status.idle": "2021-11-29T08:02:15.954834Z",
     "shell.execute_reply": "2021-11-29T08:02:15.954163Z",
     "shell.execute_reply.started": "2021-11-29T07:59:11.174262Z"
    },
    "papermill": {
     "duration": 0.02806,
     "end_time": "2021-11-29T08:02:15.954985",
     "exception": false,
     "start_time": "2021-11-29T08:02:15.926925",
     "status": "completed"
    },
    "tags": []
   },
   "outputs": [],
   "source": [
    "#q2.hint()\n",
    "#q2.solution()"
   ]
  },
  {
   "cell_type": "markdown",
   "id": "1da9497f",
   "metadata": {
    "papermill": {
     "duration": 0.021251,
     "end_time": "2021-11-29T08:02:15.997789",
     "exception": false,
     "start_time": "2021-11-29T08:02:15.976538",
     "status": "completed"
    },
    "tags": []
   },
   "source": [
    "## 3.\n",
    "How often does each country appear in the dataset? Create a Series `reviews_per_country` mapping countries to the count of reviews of wines from that country."
   ]
  },
  {
   "cell_type": "code",
   "execution_count": 6,
   "id": "99b38149",
   "metadata": {
    "execution": {
     "iopub.execute_input": "2021-11-29T08:02:16.065895Z",
     "iopub.status.busy": "2021-11-29T08:02:16.065173Z",
     "iopub.status.idle": "2021-11-29T08:02:16.070349Z",
     "shell.execute_reply": "2021-11-29T08:02:16.069838Z",
     "shell.execute_reply.started": "2021-11-29T07:59:24.816469Z"
    },
    "papermill": {
     "duration": 0.051235,
     "end_time": "2021-11-29T08:02:16.070512",
     "exception": false,
     "start_time": "2021-11-29T08:02:16.019277",
     "status": "completed"
    },
    "tags": []
   },
   "outputs": [
    {
     "data": {
      "application/javascript": [
       "parent.postMessage({\"jupyterEvent\": \"custom.exercise_interaction\", \"data\": {\"outcomeType\": 1, \"valueTowardsCompletion\": 0.14285714285714285, \"interactionType\": 1, \"questionType\": 1, \"questionId\": \"3_ReviewsPerCountry\", \"learnToolsVersion\": \"0.3.4\", \"failureMessage\": \"\", \"exceptionClass\": \"\", \"trace\": \"\"}}, \"*\")"
      ],
      "text/plain": [
       "<IPython.core.display.Javascript object>"
      ]
     },
     "metadata": {},
     "output_type": "display_data"
    },
    {
     "data": {
      "text/markdown": [
       "<span style=\"color:#33cc33\">Correct</span>"
      ],
      "text/plain": [
       "Correct"
      ]
     },
     "metadata": {},
     "output_type": "display_data"
    }
   ],
   "source": [
    "reviews_per_country = reviews.country.value_counts()\n",
    "\n",
    "# Check your answer\n",
    "q3.check()"
   ]
  },
  {
   "cell_type": "code",
   "execution_count": 7,
   "id": "117d2338",
   "metadata": {
    "execution": {
     "iopub.execute_input": "2021-11-29T08:02:16.119907Z",
     "iopub.status.busy": "2021-11-29T08:02:16.119277Z",
     "iopub.status.idle": "2021-11-29T08:02:16.121660Z",
     "shell.execute_reply": "2021-11-29T08:02:16.121040Z",
     "shell.execute_reply.started": "2021-11-29T07:59:28.464438Z"
    },
    "papermill": {
     "duration": 0.028285,
     "end_time": "2021-11-29T08:02:16.121791",
     "exception": false,
     "start_time": "2021-11-29T08:02:16.093506",
     "status": "completed"
    },
    "tags": []
   },
   "outputs": [],
   "source": [
    "#q3.hint()\n",
    "#q3.solution()"
   ]
  },
  {
   "cell_type": "markdown",
   "id": "d4f64ad1",
   "metadata": {
    "papermill": {
     "duration": 0.022054,
     "end_time": "2021-11-29T08:02:16.166170",
     "exception": false,
     "start_time": "2021-11-29T08:02:16.144116",
     "status": "completed"
    },
    "tags": []
   },
   "source": [
    "## 4.\n",
    "Create variable `centered_price` containing a version of the `price` column with the mean price subtracted.\n",
    "\n",
    "(Note: this 'centering' transformation is a common preprocessing step before applying various machine learning algorithms.) "
   ]
  },
  {
   "cell_type": "code",
   "execution_count": 8,
   "id": "094887a3",
   "metadata": {
    "execution": {
     "iopub.execute_input": "2021-11-29T08:02:16.218175Z",
     "iopub.status.busy": "2021-11-29T08:02:16.217554Z",
     "iopub.status.idle": "2021-11-29T08:02:16.222791Z",
     "shell.execute_reply": "2021-11-29T08:02:16.222184Z",
     "shell.execute_reply.started": "2021-11-29T07:59:38.934608Z"
    },
    "papermill": {
     "duration": 0.034444,
     "end_time": "2021-11-29T08:02:16.222932",
     "exception": false,
     "start_time": "2021-11-29T08:02:16.188488",
     "status": "completed"
    },
    "tags": []
   },
   "outputs": [
    {
     "data": {
      "application/javascript": [
       "parent.postMessage({\"jupyterEvent\": \"custom.exercise_interaction\", \"data\": {\"outcomeType\": 1, \"valueTowardsCompletion\": 0.14285714285714285, \"interactionType\": 1, \"questionType\": 1, \"questionId\": \"4_CenteredPrice\", \"learnToolsVersion\": \"0.3.4\", \"failureMessage\": \"\", \"exceptionClass\": \"\", \"trace\": \"\"}}, \"*\")"
      ],
      "text/plain": [
       "<IPython.core.display.Javascript object>"
      ]
     },
     "metadata": {},
     "output_type": "display_data"
    },
    {
     "data": {
      "text/markdown": [
       "<span style=\"color:#33cc33\">Correct</span>"
      ],
      "text/plain": [
       "Correct"
      ]
     },
     "metadata": {},
     "output_type": "display_data"
    }
   ],
   "source": [
    "centered_price = reviews.price - reviews.price.mean()\n",
    "\n",
    "# Check your answer\n",
    "q4.check()"
   ]
  },
  {
   "cell_type": "code",
   "execution_count": 9,
   "id": "94c0ccb7",
   "metadata": {
    "execution": {
     "iopub.execute_input": "2021-11-29T08:02:16.273678Z",
     "iopub.status.busy": "2021-11-29T08:02:16.273073Z",
     "iopub.status.idle": "2021-11-29T08:02:16.275939Z",
     "shell.execute_reply": "2021-11-29T08:02:16.275293Z",
     "shell.execute_reply.started": "2021-11-29T07:59:53.974764Z"
    },
    "papermill": {
     "duration": 0.029838,
     "end_time": "2021-11-29T08:02:16.276074",
     "exception": false,
     "start_time": "2021-11-29T08:02:16.246236",
     "status": "completed"
    },
    "tags": []
   },
   "outputs": [],
   "source": [
    "#q4.hint()\n",
    "#q4.solution()"
   ]
  },
  {
   "cell_type": "markdown",
   "id": "6bd7311b",
   "metadata": {
    "papermill": {
     "duration": 0.024667,
     "end_time": "2021-11-29T08:02:16.324318",
     "exception": false,
     "start_time": "2021-11-29T08:02:16.299651",
     "status": "completed"
    },
    "tags": []
   },
   "source": [
    "## 5.\n",
    "I'm an economical wine buyer. Which wine is the \"best bargain\"? Create a variable `bargain_wine` with the title of the wine with the highest points-to-price ratio in the dataset."
   ]
  },
  {
   "cell_type": "code",
   "execution_count": 10,
   "id": "4f3b21e1",
   "metadata": {
    "execution": {
     "iopub.execute_input": "2021-11-29T08:02:16.378159Z",
     "iopub.status.busy": "2021-11-29T08:02:16.377534Z",
     "iopub.status.idle": "2021-11-29T08:02:16.387016Z",
     "shell.execute_reply": "2021-11-29T08:02:16.386479Z",
     "shell.execute_reply.started": "2021-11-29T08:00:11.845119Z"
    },
    "papermill": {
     "duration": 0.03863,
     "end_time": "2021-11-29T08:02:16.387150",
     "exception": false,
     "start_time": "2021-11-29T08:02:16.348520",
     "status": "completed"
    },
    "tags": []
   },
   "outputs": [
    {
     "data": {
      "application/javascript": [
       "parent.postMessage({\"jupyterEvent\": \"custom.exercise_interaction\", \"data\": {\"outcomeType\": 1, \"valueTowardsCompletion\": 0.14285714285714285, \"interactionType\": 1, \"questionType\": 2, \"questionId\": \"5_BargainWine\", \"learnToolsVersion\": \"0.3.4\", \"failureMessage\": \"\", \"exceptionClass\": \"\", \"trace\": \"\"}}, \"*\")"
      ],
      "text/plain": [
       "<IPython.core.display.Javascript object>"
      ]
     },
     "metadata": {},
     "output_type": "display_data"
    },
    {
     "data": {
      "text/markdown": [
       "<span style=\"color:#33cc33\">Correct</span>"
      ],
      "text/plain": [
       "Correct"
      ]
     },
     "metadata": {},
     "output_type": "display_data"
    }
   ],
   "source": [
    "bargain_idx = (reviews.points / reviews.price).idxmax()\n",
    "bargain_wine = reviews.loc[bargain_idx, 'title']\n",
    "# Check your answer\n",
    "q5.check()"
   ]
  },
  {
   "cell_type": "code",
   "execution_count": 11,
   "id": "77ae9671",
   "metadata": {
    "execution": {
     "iopub.execute_input": "2021-11-29T08:02:16.440643Z",
     "iopub.status.busy": "2021-11-29T08:02:16.439982Z",
     "iopub.status.idle": "2021-11-29T08:02:16.442593Z",
     "shell.execute_reply": "2021-11-29T08:02:16.442000Z",
     "shell.execute_reply.started": "2021-11-29T08:00:26.645653Z"
    },
    "papermill": {
     "duration": 0.030961,
     "end_time": "2021-11-29T08:02:16.442737",
     "exception": false,
     "start_time": "2021-11-29T08:02:16.411776",
     "status": "completed"
    },
    "tags": []
   },
   "outputs": [],
   "source": [
    "#q5.hint()\n",
    "#q5.solution()"
   ]
  },
  {
   "cell_type": "markdown",
   "id": "6b4bd90c",
   "metadata": {
    "papermill": {
     "duration": 0.024071,
     "end_time": "2021-11-29T08:02:16.491189",
     "exception": false,
     "start_time": "2021-11-29T08:02:16.467118",
     "status": "completed"
    },
    "tags": []
   },
   "source": [
    "## 6.\n",
    "There are only so many words you can use when describing a bottle of wine. Is a wine more likely to be \"tropical\" or \"fruity\"? Create a Series `descriptor_counts` counting how many times each of these two words appears in the `description` column in the dataset."
   ]
  },
  {
   "cell_type": "code",
   "execution_count": 12,
   "id": "8af67fb6",
   "metadata": {
    "execution": {
     "iopub.execute_input": "2021-11-29T08:02:16.548131Z",
     "iopub.status.busy": "2021-11-29T08:02:16.547510Z",
     "iopub.status.idle": "2021-11-29T08:02:16.699986Z",
     "shell.execute_reply": "2021-11-29T08:02:16.699452Z",
     "shell.execute_reply.started": "2021-11-29T08:00:42.565287Z"
    },
    "papermill": {
     "duration": 0.184604,
     "end_time": "2021-11-29T08:02:16.700123",
     "exception": false,
     "start_time": "2021-11-29T08:02:16.515519",
     "status": "completed"
    },
    "tags": []
   },
   "outputs": [
    {
     "data": {
      "application/javascript": [
       "parent.postMessage({\"jupyterEvent\": \"custom.exercise_interaction\", \"data\": {\"outcomeType\": 1, \"valueTowardsCompletion\": 0.14285714285714285, \"interactionType\": 1, \"questionType\": 1, \"questionId\": \"6_DescriptorCounts\", \"learnToolsVersion\": \"0.3.4\", \"failureMessage\": \"\", \"exceptionClass\": \"\", \"trace\": \"\"}}, \"*\")"
      ],
      "text/plain": [
       "<IPython.core.display.Javascript object>"
      ]
     },
     "metadata": {},
     "output_type": "display_data"
    },
    {
     "data": {
      "text/markdown": [
       "<span style=\"color:#33cc33\">Correct</span>"
      ],
      "text/plain": [
       "Correct"
      ]
     },
     "metadata": {},
     "output_type": "display_data"
    }
   ],
   "source": [
    "n_trop = reviews.description.map(lambda desc: \"tropical\" in desc).sum()\n",
    "n_fruity = reviews.description.map(lambda desc: \"fruity\" in desc).sum()\n",
    "descriptor_counts = pd.Series([n_trop, n_fruity], index=['tropical', 'fruity'])\n",
    "\n",
    "# Check your answer\n",
    "q6.check()"
   ]
  },
  {
   "cell_type": "code",
   "execution_count": 13,
   "id": "135f5e36",
   "metadata": {
    "execution": {
     "iopub.execute_input": "2021-11-29T08:02:16.754992Z",
     "iopub.status.busy": "2021-11-29T08:02:16.754361Z",
     "iopub.status.idle": "2021-11-29T08:02:16.756741Z",
     "shell.execute_reply": "2021-11-29T08:02:16.756209Z",
     "shell.execute_reply.started": "2021-11-29T08:00:45.824036Z"
    },
    "papermill": {
     "duration": 0.03125,
     "end_time": "2021-11-29T08:02:16.756882",
     "exception": false,
     "start_time": "2021-11-29T08:02:16.725632",
     "status": "completed"
    },
    "tags": []
   },
   "outputs": [],
   "source": [
    "#q6.hint()\n",
    "#q6.solution()"
   ]
  },
  {
   "cell_type": "markdown",
   "id": "59395a6b",
   "metadata": {
    "papermill": {
     "duration": 0.025853,
     "end_time": "2021-11-29T08:02:16.808136",
     "exception": false,
     "start_time": "2021-11-29T08:02:16.782283",
     "status": "completed"
    },
    "tags": []
   },
   "source": [
    "## 7.\n",
    "We'd like to host these wine reviews on our website, but a rating system ranging from 80 to 100 points is too hard to understand - we'd like to translate them into simple star ratings. A score of 95 or higher counts as 3 stars, a score of at least 85 but less than 95 is 2 stars. Any other score is 1 star.\n",
    "\n",
    "Also, the Canadian Vintners Association bought a lot of ads on the site, so any wines from Canada should automatically get 3 stars, regardless of points.\n",
    "\n",
    "Create a series `star_ratings` with the number of stars corresponding to each review in the dataset."
   ]
  },
  {
   "cell_type": "code",
   "execution_count": 14,
   "id": "295b5164",
   "metadata": {
    "execution": {
     "iopub.execute_input": "2021-11-29T08:02:16.862298Z",
     "iopub.status.busy": "2021-11-29T08:02:16.861633Z",
     "iopub.status.idle": "2021-11-29T08:02:21.723842Z",
     "shell.execute_reply": "2021-11-29T08:02:21.724325Z",
     "shell.execute_reply.started": "2021-11-29T08:01:17.825164Z"
    },
    "papermill": {
     "duration": 4.89114,
     "end_time": "2021-11-29T08:02:21.724523",
     "exception": false,
     "start_time": "2021-11-29T08:02:16.833383",
     "status": "completed"
    },
    "tags": []
   },
   "outputs": [
    {
     "data": {
      "application/javascript": [
       "parent.postMessage({\"jupyterEvent\": \"custom.exercise_interaction\", \"data\": {\"outcomeType\": 1, \"valueTowardsCompletion\": 0.14285714285714285, \"interactionType\": 1, \"questionType\": 1, \"questionId\": \"7_StarRatings\", \"learnToolsVersion\": \"0.3.4\", \"failureMessage\": \"\", \"exceptionClass\": \"\", \"trace\": \"\"}}, \"*\")"
      ],
      "text/plain": [
       "<IPython.core.display.Javascript object>"
      ]
     },
     "metadata": {},
     "output_type": "display_data"
    },
    {
     "data": {
      "text/markdown": [
       "<span style=\"color:#33cc33\">Correct</span>"
      ],
      "text/plain": [
       "Correct"
      ]
     },
     "metadata": {},
     "output_type": "display_data"
    }
   ],
   "source": [
    "def stars(row):\n",
    "    if row.country == 'Canada':\n",
    "        return 3\n",
    "    elif row.points >= 95:\n",
    "        return 3\n",
    "    elif row.points >= 85:\n",
    "        return 2\n",
    "    else:\n",
    "        return 1\n",
    "\n",
    "star_ratings = reviews.apply(stars, axis='columns')\n",
    "\n",
    "# Check your answer\n",
    "q7.check()"
   ]
  },
  {
   "cell_type": "code",
   "execution_count": 15,
   "id": "e14041bd",
   "metadata": {
    "execution": {
     "iopub.execute_input": "2021-11-29T08:02:21.780968Z",
     "iopub.status.busy": "2021-11-29T08:02:21.780054Z",
     "iopub.status.idle": "2021-11-29T08:02:21.783014Z",
     "shell.execute_reply": "2021-11-29T08:02:21.783565Z",
     "shell.execute_reply.started": "2021-11-29T08:01:24.804462Z"
    },
    "papermill": {
     "duration": 0.032726,
     "end_time": "2021-11-29T08:02:21.783727",
     "exception": false,
     "start_time": "2021-11-29T08:02:21.751001",
     "status": "completed"
    },
    "tags": []
   },
   "outputs": [],
   "source": [
    "#q7.hint()\n",
    "#q7.solution()"
   ]
  },
  {
   "cell_type": "markdown",
   "id": "f8be53ee",
   "metadata": {
    "papermill": {
     "duration": 0.025931,
     "end_time": "2021-11-29T08:02:21.836055",
     "exception": false,
     "start_time": "2021-11-29T08:02:21.810124",
     "status": "completed"
    },
    "tags": []
   },
   "source": [
    "# Keep going\n",
    "Continue to **[grouping and sorting](https://www.kaggle.com/residentmario/grouping-and-sorting)**."
   ]
  },
  {
   "cell_type": "markdown",
   "id": "5d4bea3c",
   "metadata": {
    "papermill": {
     "duration": 0.025822,
     "end_time": "2021-11-29T08:02:21.888166",
     "exception": false,
     "start_time": "2021-11-29T08:02:21.862344",
     "status": "completed"
    },
    "tags": []
   },
   "source": [
    "---\n",
    "\n",
    "\n",
    "\n",
    "\n",
    "*Have questions or comments? Visit the [course discussion forum](https://www.kaggle.com/learn/pandas/discussion) to chat with other learners.*"
   ]
  }
 ],
 "metadata": {
  "kernelspec": {
   "display_name": "Python 3",
   "language": "python",
   "name": "python3"
  },
  "language_info": {
   "codemirror_mode": {
    "name": "ipython",
    "version": 3
   },
   "file_extension": ".py",
   "mimetype": "text/x-python",
   "name": "python",
   "nbconvert_exporter": "python",
   "pygments_lexer": "ipython3",
   "version": "3.7.10"
  },
  "papermill": {
   "default_parameters": {},
   "duration": 23.722428,
   "end_time": "2021-11-29T08:02:22.523220",
   "environment_variables": {},
   "exception": null,
   "input_path": "__notebook__.ipynb",
   "output_path": "__notebook__.ipynb",
   "parameters": {},
   "start_time": "2021-11-29T08:01:58.800792",
   "version": "2.3.3"
  }
 },
 "nbformat": 4,
 "nbformat_minor": 5
}
